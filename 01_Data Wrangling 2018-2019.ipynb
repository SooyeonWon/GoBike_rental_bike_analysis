{
 "cells": [
  {
   "cell_type": "code",
   "execution_count": 1,
   "metadata": {},
   "outputs": [],
   "source": [
    "# import all packages and set plots to be embedded inline\n",
    "import numpy as np\n",
    "import pandas as pd"
   ]
  },
  {
   "cell_type": "markdown",
   "metadata": {},
   "source": [
    "### 2018"
   ]
  },
  {
   "cell_type": "code",
   "execution_count": 7,
   "metadata": {},
   "outputs": [],
   "source": [
    "fordgobike_201801 = pd.read_csv('201801-fordgobike-tripdata.csv')\n",
    "fordgobike_201802 = pd.read_csv('201802-fordgobike-tripdata.csv')\n",
    "fordgobike_201803 = pd.read_csv('201803-fordgobike-tripdata.csv')\n",
    "fordgobike_201804 = pd.read_csv('201804-fordgobike-tripdata.csv')\n",
    "fordgobike_201805 = pd.read_csv('201805-fordgobike-tripdata.csv')\n",
    "fordgobike_201806 = pd.read_csv('201806-fordgobike-tripdata.csv')\n",
    "fordgobike_201807 = pd.read_csv('201807-fordgobike-tripdata.csv')\n",
    "fordgobike_201808 = pd.read_csv('201808-fordgobike-tripdata.csv')\n",
    "fordgobike_201809 = pd.read_csv('201809-fordgobike-tripdata.csv')\n",
    "fordgobike_201810 = pd.read_csv('201810-fordgobike-tripdata.csv')\n",
    "fordgobike_201811 = pd.read_csv('201811-fordgobike-tripdata.csv')\n",
    "fordgobike_201812 = pd.read_csv('201812-fordgobike-tripdata.csv')"
   ]
  },
  {
   "cell_type": "markdown",
   "metadata": {},
   "source": [
    "- fordgobike_201806 - fordgobike_201812 have missing values on the columns: start_station_id, start_station_name, end_station_id, end_station_name           "
   ]
  },
  {
   "cell_type": "code",
   "execution_count": 8,
   "metadata": {},
   "outputs": [
    {
     "name": "stdout",
     "output_type": "stream",
     "text": [
      "<class 'pandas.core.frame.DataFrame'>\n",
      "RangeIndex: 195968 entries, 0 to 195967\n",
      "Data columns (total 14 columns):\n",
      " #   Column                   Non-Null Count   Dtype  \n",
      "---  ------                   --------------   -----  \n",
      " 0   duration_sec             195968 non-null  int64  \n",
      " 1   start_time               195968 non-null  object \n",
      " 2   end_time                 195968 non-null  object \n",
      " 3   start_station_id         193907 non-null  float64\n",
      " 4   start_station_name       193907 non-null  object \n",
      " 5   start_station_latitude   195968 non-null  float64\n",
      " 6   start_station_longitude  195968 non-null  float64\n",
      " 7   end_station_id           193907 non-null  float64\n",
      " 8   end_station_name         193907 non-null  object \n",
      " 9   end_station_latitude     195968 non-null  float64\n",
      " 10  end_station_longitude    195968 non-null  float64\n",
      " 11  bike_id                  195968 non-null  int64  \n",
      " 12  user_type                195968 non-null  object \n",
      " 13  bike_share_for_all_trip  195968 non-null  object \n",
      "dtypes: float64(6), int64(2), object(6)\n",
      "memory usage: 20.9+ MB\n"
     ]
    }
   ],
   "source": [
    "fordgobike_201806.info()"
   ]
  },
  {
   "cell_type": "code",
   "execution_count": 9,
   "metadata": {},
   "outputs": [],
   "source": [
    "df_2018 = [fordgobike_201802, fordgobike_201803,\n",
    "          fordgobike_201804, fordgobike_201805, fordgobike_201806, \n",
    "          fordgobike_201807, fordgobike_201808, fordgobike_201809,\n",
    "          fordgobike_201810, fordgobike_201811, fordgobike_201812]\n",
    "\n",
    "fordgobike_2018=fordgobike_201801.append(df_2018, ignore_index=True)"
   ]
  },
  {
   "cell_type": "code",
   "execution_count": 10,
   "metadata": {
    "scrolled": true
   },
   "outputs": [
    {
     "data": {
      "text/plain": [
       "(1863721, 14)"
      ]
     },
     "execution_count": 10,
     "metadata": {},
     "output_type": "execute_result"
    }
   ],
   "source": [
    "fordgobike_2018.shape"
   ]
  },
  {
   "cell_type": "code",
   "execution_count": 11,
   "metadata": {},
   "outputs": [
    {
     "name": "stdout",
     "output_type": "stream",
     "text": [
      "1863721\n"
     ]
    }
   ],
   "source": [
    "total_2018 = (fordgobike_201801.shape[0]+fordgobike_201802.shape[0] + fordgobike_201803.shape[0]+ fordgobike_201804.shape[0]+\n",
    "        fordgobike_201805.shape[0]+ fordgobike_201806.shape[0] + fordgobike_201807.shape[0]+fordgobike_201808.shape[0] +\n",
    "         fordgobike_201809.shape[0] + fordgobike_201810.shape[0]+ fordgobike_201811.shape[0]+ fordgobike_201812.shape[0])\n",
    "print(total_2018)"
   ]
  },
  {
   "cell_type": "code",
   "execution_count": 12,
   "metadata": {},
   "outputs": [],
   "source": [
    "fordgobike_2018.to_csv('bike_2018.csv',index=False)"
   ]
  },
  {
   "cell_type": "markdown",
   "metadata": {},
   "source": [
    "### 2019"
   ]
  },
  {
   "cell_type": "code",
   "execution_count": 13,
   "metadata": {
    "scrolled": true
   },
   "outputs": [
    {
     "name": "stderr",
     "output_type": "stream",
     "text": [
      "C:\\Users\\wonso\\anaconda3\\lib\\site-packages\\IPython\\core\\interactiveshell.py:3063: DtypeWarning: Columns (14) have mixed types.Specify dtype option on import or set low_memory=False.\n",
      "  interactivity=interactivity, compiler=compiler, result=result)\n",
      "C:\\Users\\wonso\\anaconda3\\lib\\site-packages\\IPython\\core\\interactiveshell.py:3063: DtypeWarning: Columns (13,14) have mixed types.Specify dtype option on import or set low_memory=False.\n",
      "  interactivity=interactivity, compiler=compiler, result=result)\n",
      "C:\\Users\\wonso\\anaconda3\\lib\\site-packages\\IPython\\core\\interactiveshell.py:3063: DtypeWarning: Columns (13) have mixed types.Specify dtype option on import or set low_memory=False.\n",
      "  interactivity=interactivity, compiler=compiler, result=result)\n"
     ]
    }
   ],
   "source": [
    "fordgobike_201901 = pd.read_csv('201901-fordgobike-tripdata.csv')\n",
    "fordgobike_201902 = pd.read_csv('201902-fordgobike-tripdata.csv')\n",
    "fordgobike_201903 = pd.read_csv('201903-fordgobike-tripdata.csv')\n",
    "fordgobike_201904 = pd.read_csv('201904-fordgobike-tripdata.csv')\n",
    "fordgobike_201905 = pd.read_csv('201905-baywheels-tripdata.csv')\n",
    "fordgobike_201906 = pd.read_csv('201906-baywheels-tripdata.csv')\n",
    "fordgobike_201907 = pd.read_csv('201907-baywheels-tripdata.csv')\n",
    "fordgobike_201908 = pd.read_csv('201908-baywheels-tripdata.csv')\n",
    "fordgobike_201909 = pd.read_csv('201909-baywheels-tripdata.csv')\n",
    "fordgobike_201910 = pd.read_csv('201910-baywheels-tripdata.csv')\n",
    "fordgobike_201911 = pd.read_csv('201911-baywheels-tripdata.csv')\n",
    "fordgobike_201912 = pd.read_csv('201912-baywheels-tripdata.csv')"
   ]
  },
  {
   "cell_type": "markdown",
   "metadata": {},
   "source": [
    "- fordgobike_201901 - fordgobike_201912 have missing values on the columns: start_station_id, start_station_name, end_station_id, end_station_name           "
   ]
  },
  {
   "cell_type": "code",
   "execution_count": 14,
   "metadata": {},
   "outputs": [],
   "source": [
    "df_2019 = [fordgobike_201902, fordgobike_201903,\n",
    "          fordgobike_201904, fordgobike_201905, fordgobike_201906, \n",
    "          fordgobike_201907, fordgobike_201908, fordgobike_201909,\n",
    "          fordgobike_201910, fordgobike_201911, fordgobike_201912]\n",
    "\n",
    "fordgobike_2019=fordgobike_201901.append(df_2019, ignore_index=True)"
   ]
  },
  {
   "cell_type": "code",
   "execution_count": 15,
   "metadata": {},
   "outputs": [
    {
     "name": "stdout",
     "output_type": "stream",
     "text": [
      "2506983\n"
     ]
    }
   ],
   "source": [
    "total_2019 = (fordgobike_201901.shape[0]+fordgobike_201902.shape[0] + fordgobike_201903.shape[0]+ fordgobike_201904.shape[0]+\n",
    "        fordgobike_201905.shape[0]+ fordgobike_201906.shape[0] + fordgobike_201907.shape[0]+fordgobike_201908.shape[0] +\n",
    "         fordgobike_201909.shape[0] + fordgobike_201910.shape[0]+ fordgobike_201911.shape[0]+ fordgobike_201912.shape[0])\n",
    "print(total_2019)"
   ]
  },
  {
   "cell_type": "code",
   "execution_count": 16,
   "metadata": {},
   "outputs": [
    {
     "data": {
      "text/plain": [
       "(2506983, 15)"
      ]
     },
     "execution_count": 16,
     "metadata": {},
     "output_type": "execute_result"
    }
   ],
   "source": [
    "fordgobike_2019.shape"
   ]
  },
  {
   "cell_type": "code",
   "execution_count": 17,
   "metadata": {},
   "outputs": [],
   "source": [
    "fordgobike_2019.to_csv('bike_2019.csv',index=False)"
   ]
  }
 ],
 "metadata": {
  "kernelspec": {
   "display_name": "Python 3",
   "language": "python",
   "name": "python3"
  },
  "language_info": {
   "codemirror_mode": {
    "name": "ipython",
    "version": 3
   },
   "file_extension": ".py",
   "mimetype": "text/x-python",
   "name": "python",
   "nbconvert_exporter": "python",
   "pygments_lexer": "ipython3",
   "version": "3.7.6"
  }
 },
 "nbformat": 4,
 "nbformat_minor": 4
}
