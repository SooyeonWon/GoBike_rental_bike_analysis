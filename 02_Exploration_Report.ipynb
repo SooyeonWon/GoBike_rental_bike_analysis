{
 "cells": [
  {
   "cell_type": "markdown",
   "metadata": {},
   "source": [
    "# Ford GoBike System Data Exploration\n",
    "## by Sooyeon Won \n",
    "\n",
    "## Preliminary Wrangling\n",
    "\n",
    "> This analysis explores the datasets  about individual rides made in a bike-sharing system. The datasets, collected from 2018 to 2019, contain mobilities information for more than 4 million datapoints. "
   ]
  },
  {
   "cell_type": "code",
   "execution_count": 1,
   "metadata": {},
   "outputs": [],
   "source": [
    "# Import all packages and set plots to be embedded inline\n",
    "import numpy as np\n",
    "import pandas as pd\n",
    "import matplotlib.pyplot as plt\n",
    "import seaborn as sns\n",
    "import datetime as dt\n",
    "\n",
    "%matplotlib inline"
   ]
  },
  {
   "cell_type": "markdown",
   "metadata": {},
   "source": [
    "> Originally, monthly datasets are provided. By joining all the monthly datasets, I used yearly data in this analysis. You can check the process of joining monthly datasets in the previous Notebook ('01_Data_Wrangling.ipynb'). After loading the annual datasets individually, they are appended each other for the sake of simplicity. "
   ]
  },
  {
   "cell_type": "code",
   "execution_count": 2,
   "metadata": {
    "scrolled": true
   },
   "outputs": [
    {
     "name": "stderr",
     "output_type": "stream",
     "text": [
      "C:\\Users\\wonso\\anaconda3\\lib\\site-packages\\IPython\\core\\interactiveshell.py:3063: DtypeWarning: Columns (13,14) have mixed types.Specify dtype option on import or set low_memory=False.\n",
      "  interactivity=interactivity, compiler=compiler, result=result)\n"
     ]
    }
   ],
   "source": [
    "# Load in the datasets into a pandas dataframe, print statistics\n",
    "bike_2018 =  pd.read_csv('bike_2018.csv')\n",
    "bike_2019 =  pd.read_csv('bike_2019.csv')"
   ]
  },
  {
   "cell_type": "code",
   "execution_count": 3,
   "metadata": {},
   "outputs": [],
   "source": [
    "# Label each dataset before appending.\n",
    "bike_2018['Year'] = '2018' \n",
    "bike_2019['Year'] = '2019'\n",
    "bike_df = bike_2018.append(bike_2019, ignore_index=True)"
   ]
  },
  {
   "cell_type": "code",
   "execution_count": 4,
   "metadata": {},
   "outputs": [
    {
     "name": "stdout",
     "output_type": "stream",
     "text": [
      "<class 'pandas.core.frame.DataFrame'>\n",
      "RangeIndex: 1863721 entries, 0 to 1863720\n",
      "Data columns (total 15 columns):\n",
      " #   Column                   Dtype  \n",
      "---  ------                   -----  \n",
      " 0   duration_sec             int64  \n",
      " 1   start_time               object \n",
      " 2   end_time                 object \n",
      " 3   start_station_id         float64\n",
      " 4   start_station_name       object \n",
      " 5   start_station_latitude   float64\n",
      " 6   start_station_longitude  float64\n",
      " 7   end_station_id           float64\n",
      " 8   end_station_name         object \n",
      " 9   end_station_latitude     float64\n",
      " 10  end_station_longitude    float64\n",
      " 11  bike_id                  int64  \n",
      " 12  user_type                object \n",
      " 13  bike_share_for_all_trip  object \n",
      " 14  Year                     object \n",
      "dtypes: float64(6), int64(2), object(7)\n",
      "memory usage: 213.3+ MB\n",
      "<class 'pandas.core.frame.DataFrame'>\n",
      "RangeIndex: 2506983 entries, 0 to 2506982\n",
      "Data columns (total 16 columns):\n",
      " #   Column                   Dtype  \n",
      "---  ------                   -----  \n",
      " 0   duration_sec             int64  \n",
      " 1   start_time               object \n",
      " 2   end_time                 object \n",
      " 3   start_station_id         float64\n",
      " 4   start_station_name       object \n",
      " 5   start_station_latitude   float64\n",
      " 6   start_station_longitude  float64\n",
      " 7   end_station_id           float64\n",
      " 8   end_station_name         object \n",
      " 9   end_station_latitude     float64\n",
      " 10  end_station_longitude    float64\n",
      " 11  bike_id                  int64  \n",
      " 12  user_type                object \n",
      " 13  bike_share_for_all_trip  object \n",
      " 14  rental_access_method     object \n",
      " 15  Year                     object \n",
      "dtypes: float64(6), int64(2), object(8)\n",
      "memory usage: 306.0+ MB\n"
     ]
    },
    {
     "data": {
      "text/plain": [
       "(None, None)"
      ]
     },
     "execution_count": 4,
     "metadata": {},
     "output_type": "execute_result"
    }
   ],
   "source": [
    "bike_2018.info(), bike_2019.info() \n",
    "# Only one column ('rental_access_method') is contained in 2019 dataset. The rest of features are all the same."
   ]
  },
  {
   "cell_type": "code",
   "execution_count": 5,
   "metadata": {
    "scrolled": true
   },
   "outputs": [
    {
     "data": {
      "text/plain": [
       "(4370704, 16)"
      ]
     },
     "execution_count": 5,
     "metadata": {},
     "output_type": "execute_result"
    }
   ],
   "source": [
    "bike_df.shape # There are ca. 4,37 millions of datapoints and 16 features."
   ]
  },
  {
   "cell_type": "code",
   "execution_count": 6,
   "metadata": {},
   "outputs": [
    {
     "name": "stdout",
     "output_type": "stream",
     "text": [
      "<class 'pandas.core.frame.DataFrame'>\n",
      "RangeIndex: 4370704 entries, 0 to 4370703\n",
      "Data columns (total 16 columns):\n",
      " #   Column                   Dtype  \n",
      "---  ------                   -----  \n",
      " 0   duration_sec             int64  \n",
      " 1   start_time               object \n",
      " 2   end_time                 object \n",
      " 3   start_station_id         float64\n",
      " 4   start_station_name       object \n",
      " 5   start_station_latitude   float64\n",
      " 6   start_station_longitude  float64\n",
      " 7   end_station_id           float64\n",
      " 8   end_station_name         object \n",
      " 9   end_station_latitude     float64\n",
      " 10  end_station_longitude    float64\n",
      " 11  bike_id                  int64  \n",
      " 12  user_type                object \n",
      " 13  bike_share_for_all_trip  object \n",
      " 14  Year                     object \n",
      " 15  rental_access_method     object \n",
      "dtypes: float64(6), int64(2), object(8)\n",
      "memory usage: 533.5+ MB\n"
     ]
    }
   ],
   "source": [
    "bike_df.info() # Using the method \".info()\", we can figure out the information contained in the appended dataset. "
   ]
  },
  {
   "cell_type": "code",
   "execution_count": 7,
   "metadata": {},
   "outputs": [
    {
     "name": "stdout",
     "output_type": "stream",
     "text": [
      "The earliest date of datapoints:  2018-01-01 00:01:53.8470\n",
      "The latest date of datapoints:  2019-12-31 23:59:41\n",
      "Total numbere of datapoints:  4370704\n"
     ]
    }
   ],
   "source": [
    "print('The earliest date of datapoints: ', bike_df['start_time'].min())\n",
    "print('The latest date of datapoints: ', bike_df['start_time'].max())\n",
    "print('Total numbere of datapoints: ', bike_df.shape[0])\n",
    "# More than 4.3 million datapoints are gathered from 2018-01-01 to 2019-12-31."
   ]
  },
  {
   "cell_type": "markdown",
   "metadata": {},
   "source": [
    "### The Structure of the Final Dateset \n",
    "\n",
    "> The final dataset contains approximately 4.37 million mobility records and 16 features. <br>\n",
    "  The datapoints are collected from 2018-01-01 to 2019-12-31. \n",
    "\n",
    "### The Main Features of Interest in the Dateset\n",
    "\n",
    "> The 16 features can be classified into 4 categories: \n",
    "- **Time information**: Riding Duration(in secs), Start and End time, Year\n",
    "- **Place information**: Start station (ID, Name, Latitude, Longitude), End station (ID, Name, Latitude, Longitude)\n",
    "- **User information**: User types, Completeness of trips (bike_share_for_all_trip), Access Type(rental_access_method)\n",
    "- **Other information**: Bike ID\n",
    "    \n",
    "> The features about user information are all categorical. \n",
    "- **user_types**: 'Subscriber', 'Customer' indicate multi-times, one-time users, respectively. \n",
    "- **bike_share_for_all_trip**: True or False \n",
    "- **rental_access_method**: via Apps or via Clipper (This feature is contained in 2019 dataset only.)\n",
    "\n",
    "\n",
    "> The columns unnecessary for this analysis are dropped before exploration. The unuseful columns are station IDs, and names, and Bike IDs."
   ]
  },
  {
   "cell_type": "markdown",
   "metadata": {},
   "source": [
    "### The Main Topics of Investigation with Supporting Features \n",
    "\n",
    "> Using this data, I mainly focus on the moving patterns of rental bike users. I also compare the patterns based on the user types. \n",
    "More specifically, I tried to find the answers for the following questions through out this analysis.: \n",
    "\n",
    "1. General Patterns over the Years\n",
    "> - **How long do individual trips take? (Duration of Trips) <br>**\n",
    "    The support features: Riding Duration, Year\n",
    "> - **How far do the users ride a bike? (Distance of Trips) <br>** \n",
    "    The support features: The Latitude, Longitude of Start and End station\n",
    "> - **When is the trips with rental bikes popular(Popular time of a day, day of a week, month of a year)? <br>**\n",
    "    The support features: Start and End time"
   ]
  },
  {
   "cell_type": "markdown",
   "metadata": {},
   "source": [
    "2. Pattern Comparisons based on User-Type \n",
    "> - **How often do the different types of users rent a bike? <br>**\n",
    "    The support features: User types    \n",
    "> - **How often do the different types of users, access to the rental system? <br>**\n",
    "    The support features: User types, rental_access_method\n",
    "\n",
    "3. Pattern Comparisons based on User-Type with various Time Dimensions\n",
    "> - **How different is the average trip duration between subscribers or customers? <br>**\n",
    "    The support features: Riding Duration, User types\n",
    "> - **How different are the average trip distances between difference user types?  <br>**\n",
    "    The support features: The Latitude, Longitude of Start and End station, User type\n",
    "> - **How different is the most popular time between two user types over the years? <br>**\n",
    "    The support features: Start and End time, Year\n",
    "    "
   ]
  },
  {
   "cell_type": "code",
   "execution_count": 8,
   "metadata": {},
   "outputs": [],
   "source": [
    "# Adjust the datatype of several features; \n",
    "bike_df['start_time'] = pd.to_datetime(bike_df['start_time'])\n",
    "bike_df['end_time'] = pd.to_datetime(bike_df['end_time'])\n",
    "\n",
    "# Drop unnecessary features for this analysis \n",
    "unnecessary_cols = ['start_station_id', 'end_station_id', 'bike_id', 'end_station_name', 'start_station_name']\n",
    "bike_df.drop(unnecessary_cols, axis = 1, inplace = True)"
   ]
  },
  {
   "cell_type": "markdown",
   "metadata": {},
   "source": [
    "## Univariate Exploration\n",
    "\n",
    "> I start with looking at the overall distribution of trip durations."
   ]
  },
  {
   "cell_type": "markdown",
   "metadata": {},
   "source": [
    "### 1. The Distribution of Trip Durations"
   ]
  },
  {
   "cell_type": "code",
   "execution_count": 9,
   "metadata": {
    "scrolled": true
   },
   "outputs": [
    {
     "data": {
      "text/plain": [
       "count    4.370704e+06\n",
       "mean     8.288215e+02\n",
       "std      2.152483e+03\n",
       "min      6.000000e+01\n",
       "25%      3.550000e+02\n",
       "50%      5.640000e+02\n",
       "75%      8.810000e+02\n",
       "max      9.121100e+05\n",
       "Name: duration_sec, dtype: float64"
      ]
     },
     "execution_count": 9,
     "metadata": {},
     "output_type": "execute_result"
    }
   ],
   "source": [
    "bike_df.duration_sec.describe() # From the max value, we can guess that there are outliers. "
   ]
  },
  {
   "cell_type": "code",
   "execution_count": 10,
   "metadata": {},
   "outputs": [
    {
     "data": {
      "text/plain": [
       "4684.0"
      ]
     },
     "execution_count": 10,
     "metadata": {},
     "output_type": "execute_result"
    }
   ],
   "source": [
    "# Since we have very large dataset, I decided to drop the outliers by taking 99 percentile of the data. \n",
    "quantile_99= bike_df.duration_sec.quantile(.99)\n",
    "quantile_99\n",
    "#The trip duration in the 99th percentile is 4684 seconds, approximately 1 hour and 18 minutes. "
   ]
  },
  {
   "cell_type": "code",
   "execution_count": 11,
   "metadata": {},
   "outputs": [],
   "source": [
    "bike_df= bike_df.query('duration_sec < 4684')"
   ]
  },
  {
   "cell_type": "code",
   "execution_count": 12,
   "metadata": {},
   "outputs": [
    {
     "data": {
      "text/plain": [
       "count    4.326994e+06\n",
       "mean     6.956324e+02\n",
       "std      5.318051e+02\n",
       "min      6.000000e+01\n",
       "25%      3.530000e+02\n",
       "50%      5.600000e+02\n",
       "75%      8.670000e+02\n",
       "max      4.683000e+03\n",
       "Name: duration_sec, dtype: float64"
      ]
     },
     "execution_count": 12,
     "metadata": {},
     "output_type": "execute_result"
    }
   ],
   "source": [
    "bike_df.duration_sec.describe()"
   ]
  },
  {
   "cell_type": "code",
   "execution_count": 13,
   "metadata": {},
   "outputs": [
    {
     "data": {
      "text/plain": [
       "Text(0.5, 1.0, 'Overall Trip Duration (in second)')"
      ]
     },
     "execution_count": 13,
     "metadata": {},
     "output_type": "execute_result"
    },
    {
     "data": {
      "image/png": "[encoded data removed]",
      "text/plain": [
       "<Figure size 432x288 with 1 Axes>"
      ]
     },
     "metadata": {
      "needs_background": "light"
     },
     "output_type": "display_data"
    }
   ],
   "source": [
    "bins_edge =np.arange(60,bike_df['duration_sec'].max()+200, 200)\n",
    "plt.hist(data = bike_df, x =  'duration_sec', bins = bins_edge );\n",
    "plt.xlabel('Trip Duration')\n",
    "plt.ylabel('Count')\n",
    "plt.title('Overall Trip Duration (in second)')"
   ]
  },
  {
   "cell_type": "markdown",
   "metadata": {},
   "source": [
    "> **Findings:** The trip duration histogram is higher skewewd to the right. Users take the bikes about 695 seconds (approximately 11.58 minutes) on average. I also found out that 75% of users take their trips with rental bikes less than 897 seconds (approximately 15 minutes). Next, I investgated the distribution of trip distances fpr each rental bike record."
   ]
  },
  {
   "cell_type": "markdown",
   "metadata": {},
   "source": [
    "### 2. The Distribution of Trip Distance"
   ]
  },
  {
   "cell_type": "code",
   "execution_count": 14,
   "metadata": {},
   "outputs": [],
   "source": [
    "# To calculate the trip distance, I set a function as follow:\n",
    "import math\n",
    "def distance_cal(lat1, lon1, lat2, lon2, to_radians=True, earth_radius=6371):\n",
    "    \"\"\"\n",
    "    Reference: \"https://stackoverflow.com/questions/40452759/pandas-latitude-longitude-to-distance-between-successive-rows\"\n",
    "    \"\"\"\n",
    "    if to_radians:\n",
    "        lat1, lon1, lat2, lon2 = np.radians([lat1, lon1, lat2, lon2])\n",
    "\n",
    "        a = np.sin((lat2-lat1)/2.0)**2 + np.cos(lat1) * np.cos(lat2) * np.sin((lon2-lon1)/2.0)**2\n",
    "\n",
    "    return earth_radius * 2 * np.arcsin(np.sqrt(a))"
   ]
  },
  {
   "cell_type": "code",
   "execution_count": 15,
   "metadata": {},
   "outputs": [],
   "source": [
    "lat_start = bike_df.start_station_latitude\n",
    "lon_start = bike_df.start_station_longitude \n",
    "lat_end = bike_df.end_station_latitude     \n",
    "lon_end = bike_df.end_station_longitude\n",
    "# Using the latitude and longitude of each station, I calculate the distance of each trip. \n",
    "bike_df['distance'] = distance_cal(lat_start, lon_start, lat_end, lon_end)"
   ]
  },
  {
   "cell_type": "code",
   "execution_count": 16,
   "metadata": {},
   "outputs": [
    {
     "data": {
      "text/plain": [
       "count    4.326994e+06\n",
       "mean     1.811059e+00\n",
       "std      4.478416e+01\n",
       "min      0.000000e+00\n",
       "25%      9.022422e-01\n",
       "50%      1.413548e+00\n",
       "75%      2.171534e+00\n",
       "max      1.279835e+04\n",
       "Name: distance, dtype: float64"
      ]
     },
     "execution_count": 16,
     "metadata": {},
     "output_type": "execute_result"
    }
   ],
   "source": [
    "bike_df.distance.describe() # From the max value, it seems that outliers exist as well. "
   ]
  },
  {
   "cell_type": "code",
   "execution_count": 17,
   "metadata": {},
   "outputs": [
    {
     "data": {
      "text/plain": [
       "4.9696435862433175"
      ]
     },
     "execution_count": 17,
     "metadata": {},
     "output_type": "execute_result"
    }
   ],
   "source": [
    "# By taking 99 percentile of the data, I get rid of the outliers.\n",
    "dist_quantile_99 = bike_df.distance.quantile(.99)\n",
    "dist_quantile_99"
   ]
  },
  {
   "cell_type": "code",
   "execution_count": 18,
   "metadata": {},
   "outputs": [],
   "source": [
    "bike_df = bike_df.query('distance < 4.9696')"
   ]
  },
  {
   "cell_type": "code",
   "execution_count": 19,
   "metadata": {},
   "outputs": [
    {
     "data": {
      "text/plain": [
       "Text(0.5, 1.0, 'Overall Trip Distiance Duration')"
      ]
     },
     "execution_count": 19,
     "metadata": {},
     "output_type": "execute_result"
    },
    {
     "data": {
      "image/png": "[encoded data removed]",
      "text/plain": [
       "<Figure size 432x288 with 1 Axes>"
      ]
     },
     "metadata": {
      "needs_background": "light"
     },
     "output_type": "display_data"
    }
   ],
   "source": [
    "bins_dist =np.arange(0, bike_df['distance'].max()+0.2, 0.2)\n",
    "plt.hist(data = bike_df, x =  'distance', bins = bins_dist );\n",
    "plt.xlabel('Trip Distance (km)')\n",
    "plt.ylabel('Frequency')\n",
    "plt.title('Overall Trip Distiance Duration')"
   ]
  },
  {
   "cell_type": "code",
   "execution_count": 20,
   "metadata": {
    "scrolled": true
   },
   "outputs": [
    {
     "data": {
      "text/plain": [
       "count    4.283709e+06\n",
       "mean     1.611877e+00\n",
       "std      9.702535e-01\n",
       "min      0.000000e+00\n",
       "25%      8.980624e-01\n",
       "50%      1.406149e+00\n",
       "75%      2.143716e+00\n",
       "max      4.968373e+00\n",
       "Name: distance, dtype: float64"
      ]
     },
     "execution_count": 20,
     "metadata": {},
     "output_type": "execute_result"
    }
   ],
   "source": [
    "bike_df.distance.describe()"
   ]
  },
  {
   "cell_type": "code",
   "execution_count": 21,
   "metadata": {},
   "outputs": [
    {
     "data": {
      "text/plain": [
       "0.0254804889874639"
      ]
     },
     "execution_count": 21,
     "metadata": {},
     "output_type": "execute_result"
    }
   ],
   "source": [
    "zero_dist = bike_df.query('distance < 0.1') # A new dataframe wiht zero distance data points\n",
    "zero_dist.shape[0] / bike_df.shape[0] # Zero distance data points consist of 2.5% of whole users"
   ]
  },
  {
   "cell_type": "code",
   "execution_count": 22,
   "metadata": {},
   "outputs": [
    {
     "data": {
      "text/plain": [
       "count    109151.000000\n",
       "mean       1241.017407\n",
       "std        1118.997560\n",
       "min          60.000000\n",
       "25%         244.000000\n",
       "50%         961.000000\n",
       "75%        1887.000000\n",
       "max        4683.000000\n",
       "Name: duration_sec, dtype: float64"
      ]
     },
     "execution_count": 22,
     "metadata": {},
     "output_type": "execute_result"
    }
   ],
   "source": [
    "zero_dist.duration_sec.describe() # We should note that Zero-distance users do not necessarily mean they did not use the bikes."
   ]
  },
  {
   "cell_type": "markdown",
   "metadata": {},
   "source": [
    "> **Findings:** The histogram of the trip distance is also skewed to the right. The distance of each trip is about 1.61km on average. 75 percent of people travel less than 2.14 km. One interesting point from the histogram is that there are some trips recorded as 0 km. However their trip duration is not zero. This could indicate that the users bring back their bikes to the station where they started their trips. \n",
    "In the next section, I analysed the distribution of trip records based on different time dimensions."
   ]
  },
  {
   "cell_type": "markdown",
   "metadata": {},
   "source": [
    "### 3. The Number of Renting Bikes in each Year /  in each Month  /  in each Weekday /  in each Hour \n",
    "\n",
    "#### 3-1 The number of rental bike records in each year "
   ]
  },
  {
   "cell_type": "code",
   "execution_count": 23,
   "metadata": {
    "scrolled": true
   },
   "outputs": [
    {
     "data": {
      "text/plain": [
       "Text(0.5, 1.0, 'User Distribution in each Year')"
      ]
     },
     "execution_count": 23,
     "metadata": {},
     "output_type": "execute_result"
    },
    {
     "data": {
      "image/png": "[encoded data removed]",
      "text/plain": [
       "<Figure size 432x288 with 1 Axes>"
      ]
     },
     "metadata": {
      "needs_background": "light"
     },
     "output_type": "display_data"
    }
   ],
   "source": [
    "base_color =sns.color_palette()[0]\n",
    "sns.countplot(data = bike_df, x = 'Year', color = base_color)\n",
    "plt.ylabel('count')\n",
    "plt.title('User Distribution in each Year')"
   ]
  },
  {
   "cell_type": "markdown",
   "metadata": {},
   "source": [
    "> **Findings:** The total number of uses increased over the years."
   ]
  },
  {
   "cell_type": "markdown",
   "metadata": {},
   "source": [
    "#### 3-2 The number of rental bike records in each month"
   ]
  },
  {
   "cell_type": "code",
   "execution_count": 24,
   "metadata": {},
   "outputs": [
    {
     "data": {
      "text/plain": [
       "Text(0.5, 1.0, 'User Distribution in each Month')"
      ]
     },
     "execution_count": 24,
     "metadata": {},
     "output_type": "execute_result"
    },
    {
     "data": {
      "image/png": "[encoded data removed]",
      "text/plain": [
       "<Figure size 432x288 with 1 Axes>"
      ]
     },
     "metadata": {
      "needs_background": "light"
     },
     "output_type": "display_data"
    }
   ],
   "source": [
    "bike_df['Month'] = bike_df['start_time'].dt.month\n",
    "sns.countplot(data = bike_df, x = 'Month', color = base_color)\n",
    "plt.title('User Distribution in each Month')"
   ]
  },
  {
   "cell_type": "markdown",
   "metadata": {},
   "source": [
    "> **Findings:** The number of rental times are changing in each month. The most popular months are from July to October. On the other hand, users are less likely to take a trip with rental bikes from November to February, when getting cold."
   ]
  },
  {
   "cell_type": "markdown",
   "metadata": {},
   "source": [
    "#### 3-3 The number of rental bike records in each weekday"
   ]
  },
  {
   "cell_type": "code",
   "execution_count": 25,
   "metadata": {},
   "outputs": [],
   "source": [
    "bike_df['weekday'] = bike_df.start_time.dt.day_name(); # Generate a column 'weekday' extracted from start_time"
   ]
  },
  {
   "cell_type": "code",
   "execution_count": 26,
   "metadata": {
    "scrolled": true
   },
   "outputs": [
    {
     "data": {
      "text/plain": [
       "(array([0, 1, 2, 3, 4, 5, 6]), <a list of 7 Text xticklabel objects>)"
      ]
     },
     "execution_count": 26,
     "metadata": {},
     "output_type": "execute_result"
    },
    {
     "data": {
      "image/png": "[encoded data removed]",
      "text/plain": [
       "<Figure size 432x288 with 1 Axes>"
      ]
     },
     "metadata": {
      "needs_background": "light"
     },
     "output_type": "display_data"
    }
   ],
   "source": [
    "sns.countplot(order=['Monday','Tuesday','Wednesday','Thursday','Friday','Saturday','Sunday'], data = bike_df, x = 'weekday', color = base_color)\n",
    "plt.title('User Distribution in each Weekday')\n",
    "plt.xticks(rotation =30)"
   ]
  },
  {
   "cell_type": "markdown",
   "metadata": {},
   "source": [
    "> **Findings:** The number of uses are different between weekdays and weekend. The graph shows that rental bikes are more popular on weekdays than weekends. For this reason, we can imply that the majoriy of bike users could be commuters."
   ]
  },
  {
   "cell_type": "markdown",
   "metadata": {},
   "source": [
    "#### 3-4 The number of rental bike records in each hour"
   ]
  },
  {
   "cell_type": "code",
   "execution_count": 27,
   "metadata": {},
   "outputs": [],
   "source": [
    "bike_df['hour'] = bike_df['start_time'].dt.hour # Generate a column 'Hour' extracted from start_time"
   ]
  },
  {
   "cell_type": "code",
   "execution_count": 28,
   "metadata": {
    "scrolled": true
   },
   "outputs": [
    {
     "data": {
      "text/plain": [
       "Text(0.5, 1.0, 'User Distribution in each hour')"
      ]
     },
     "execution_count": 28,
     "metadata": {},
     "output_type": "execute_result"
    },
    {
     "data": {
      "image/png": "[encoded data removed]",
      "text/plain": [
       "<Figure size 432x288 with 1 Axes>"
      ]
     },
     "metadata": {
      "needs_background": "light"
     },
     "output_type": "display_data"
    }
   ],
   "source": [
    "n_points = bike_df.shape[0]\n",
    "max_count = bike_df.hour.value_counts().max()\n",
    "max_prop = max_count/n_points \n",
    "\n",
    "tick_props = np.arange(0, max_prop, 0.01)\n",
    "tick_names = ['{:0.2f}'.format(v) for v in tick_props]\n",
    "\n",
    "# create the plot\n",
    "#base_color = sb.color_palette()[0]\n",
    "sns.countplot(data = bike_df, x = 'hour', color = base_color)\n",
    "plt.yticks(tick_props * n_points, tick_names)\n",
    "plt.ylabel('proportion')\n",
    "plt.title('User Distribution in each hour')"
   ]
  },
  {
   "cell_type": "markdown",
   "metadata": {},
   "source": [
    "> **Findings:** As earlier expected, more people use bikes during the rush hours. The hourly plotted histrogram is bimodel. From 7:30 to 8:30 and from 16:30 to 17:30 are the two time zones showing high demands in a day. Thus, I become more confident with the fact that most users take the rental bikes with the purpose of commuting. So far, we have investigated the distribution of users based on various time dimensions, Next, I analysed the type of users. What percentage of the whole users are subscribers?"
   ]
  },
  {
   "cell_type": "markdown",
   "metadata": {},
   "source": [
    "### 4. The Proportion of User Types"
   ]
  },
  {
   "cell_type": "code",
   "execution_count": 29,
   "metadata": {
    "scrolled": true
   },
   "outputs": [
    {
     "data": {
      "text/plain": [
       "Text(0, 0.5, 'proportion')"
      ]
     },
     "execution_count": 29,
     "metadata": {},
     "output_type": "execute_result"
    },
    {
     "data": {
      "image/png": "[encoded data removed]",
      "text/plain": [
       "<Figure size 432x288 with 1 Axes>"
      ]
     },
     "metadata": {
      "needs_background": "light"
     },
     "output_type": "display_data"
    }
   ],
   "source": [
    "n_points = bike_df.shape[0]\n",
    "max_count = bike_df.user_type.value_counts().max()\n",
    "max_prop = max_count/n_points \n",
    "\n",
    "tick_props = np.arange(0, max_prop, 0.1)\n",
    "tick_names = ['{:0.2f}'.format(v) for v in tick_props]\n",
    "\n",
    "base_color = sns.color_palette()[0]\n",
    "sns.countplot(data = bike_df, x = 'user_type', color = base_color)\n",
    "plt.yticks(tick_props * n_points, tick_names)\n",
    "plt.ylabel('proportion')"
   ]
  },
  {
   "cell_type": "markdown",
   "metadata": {},
   "source": [
    "> **Findings:** There are two types of users in the datasets. The users can become a \"Subscriber\" by paying monthly or yearly membership fees. As a Ford GoBike member, users can  receive unlimited 45-minute trips. For more than 45 minutes at a time, users can keep their trip with an extra charge. On the ther hand, users can also enjoy the bike trips by paying either for each trip, or for a day. Such users (without membership) are categorized as \"Customer\". It turns out that more than 80% of rental bike records are made by subscribers. \n"
   ]
  },
  {
   "cell_type": "markdown",
   "metadata": {},
   "source": [
    "### Summarize the insights from the Features of Interest \n",
    "\n",
    "> - Firstly, the distribution of _'Trip Duration'_ is highly skewed to the right. The majority of people (75 percentile) use a rental bike less than 15 minutes. Is this pattern consistent in both years? We will figure it out in the next section. \n",
    "> - For the distance of each trip _'Trip Distance'_, I calculated the distance using latitude and longitude of start and end stations. The distribution of 'Trip Distance' is also skewed to the right. The average trip distance is 1.6 km. Most people (75 percentile) ride a rental bike within 2.14km. Interestingly, there are several data points whose trip distance is calculated zero, but their trip durations are not close to zero. This implies that some users bring back their rental bikes to the place where they initially rent it out.\n",
    "> - Comparing to 2018, total number of rental bike usages in 2019 are increased. This could means that people get familiar with the rental bike systems. Also this could indicate that people are getting notice the convenience of the rental bikes. Either way, Ford GoBike shows promising business in 2019. \n",
    "> - People prefer to rent a bike from July to October, comparing to other months. However, the users are less likely to rent from November to February. Higher demands are shown on weekdays, rather than weekends. \n",
    "> - People are likely to rent a bike during 7:30 - 8:30 and 16:30 - 17:30. These two time zones are representing rush hours of a day. So, users prefer to use the rental bikes during rush hours. "
   ]
  },
  {
   "cell_type": "markdown",
   "metadata": {},
   "source": [
    "### Several Issues of the Dataset\n",
    "\n",
    "> **Data Type:** To analyse the distribution of trip records based on the various time dimensions, I changed the data type of start_time, end_time to datetime, using the to_datetime method of pandas. Then, the Month, Weekday, and Hour information are individually extracted. \n",
    "    \n",
    "> **Outliers:** As mentioned earlier, the columns. 'duration_sec' and 'distance' own several outliers. By taking up to 99 percentile of the datapoints, I removed the outliers. Because our dataset contains a huge amount of data points, removing the 1 percent of whole data points, do not heavily affect to the findings. \n",
    "\n",
    "> **Missing Values:** The columns start_station_name/id and end_station_name/id contain missing values. But they are not useful for this analysis."
   ]
  },
  {
   "cell_type": "markdown",
   "metadata": {},
   "source": [
    "## Bivariate Exploration\n",
    "\n",
    ">  In this section, I developed my anaysis in the previous section further. \n",
    "- 1. The distribution of trip durations/ trip distance in each year.\n",
    "- 2. The number of times that different types of users rent a bike in each year.\n",
    "- 3. The comparison of access methods between the two types of users. \n",
    "- 4. The comparison of trip patterns between subscribers and customers in terms of average trip duration and trip distance.\n",
    "- 5. The relationship between trip duration and trip distance."
   ]
  },
  {
   "cell_type": "code",
   "execution_count": 30,
   "metadata": {
    "scrolled": true
   },
   "outputs": [],
   "source": [
    "# Plotting with whole datapoints takes some time. Thus, I plotted using the sample of bike_df in some cases. \n",
    "bike_sample = bike_df.sample(n=2000, random_state=42)"
   ]
  },
  {
   "cell_type": "markdown",
   "metadata": {},
   "source": [
    "### 1. The Distribution of Trip Durations/ Trip Distance in each Year"
   ]
  },
  {
   "cell_type": "markdown",
   "metadata": {},
   "source": [
    "#### 1-1 The distribution of trip durations in each year"
   ]
  },
  {
   "cell_type": "code",
   "execution_count": 31,
   "metadata": {
    "scrolled": false
   },
   "outputs": [
    {
     "data": {
      "text/plain": [
       "Text(0.5, 1, 'Trip Duration in Each Year (in second)')"
      ]
     },
     "execution_count": 31,
     "metadata": {},
     "output_type": "execute_result"
    },
    {
     "data": {
      "image/png": "[encoded data removed]",
      "text/plain": [
       "<Figure size 432x216 with 2 Axes>"
      ]
     },
     "metadata": {
      "needs_background": "light"
     },
     "output_type": "display_data"
    }
   ],
   "source": [
    "g =sns.FacetGrid(data = bike_df, col = 'Year' )\n",
    "bins_edges =np.arange(60,bike_df['duration_sec'].max()+300, 300)\n",
    "g.map(plt.hist, 'duration_sec',bins =bins_edges ); \n",
    "plt.ylabel('Count')\n",
    "plt.title('Trip Duration in Each Year (in second)')"
   ]
  },
  {
   "cell_type": "markdown",
   "metadata": {},
   "source": [
    "#### 1-2 The distribution of trip distance in each year"
   ]
  },
  {
   "cell_type": "code",
   "execution_count": 32,
   "metadata": {
    "scrolled": false
   },
   "outputs": [
    {
     "data": {
      "text/plain": [
       "Text(0.5, 1, 'Trip distance in Each Year (in km)')"
      ]
     },
     "execution_count": 32,
     "metadata": {},
     "output_type": "execute_result"
    },
    {
     "data": {
      "image/png": "[encoded data removed]",
      "text/plain": [
       "<Figure size 432x216 with 2 Axes>"
      ]
     },
     "metadata": {
      "needs_background": "light"
     },
     "output_type": "display_data"
    }
   ],
   "source": [
    "g =sns.FacetGrid(data = bike_df, col = 'Year' )\n",
    "bins_edges =np.arange(0,bike_df['distance'].max()+0.2, 0.2)\n",
    "g.map(plt.hist, 'distance',bins =bins_edges ); \n",
    "plt.ylabel('Count')\n",
    "plt.title('Trip distance in Each Year (in km)')"
   ]
  },
  {
   "cell_type": "markdown",
   "metadata": {},
   "source": [
    "> **Findings:** The distribution of the trip durations/ trip distance in both years are very similar. They are all skewed to the right. The majority of people use the rental bike less than 2000 seconds, ride the bike less than 4 kilometers. From the plots, we can also clearly notice that total number of uses in 2019 is larger than in the previous year. Next, I investigated the number of each user type in both years. "
   ]
  },
  {
   "cell_type": "markdown",
   "metadata": {},
   "source": [
    "### 2. The Number of Rents in each year based on User Types"
   ]
  },
  {
   "cell_type": "code",
   "execution_count": 33,
   "metadata": {},
   "outputs": [
    {
     "data": {
      "text/plain": [
       "<matplotlib.legend.Legend at 0x1bf798c9588>"
      ]
     },
     "execution_count": 33,
     "metadata": {},
     "output_type": "execute_result"
    },
    {
     "data": {
      "image/png": "[encoded data removed]",
      "text/plain": [
       "<Figure size 504x360 with 1 Axes>"
      ]
     },
     "metadata": {
      "needs_background": "light"
     },
     "output_type": "display_data"
    }
   ],
   "source": [
    "# Compare the Number of Subscribers and Customers in each year.\n",
    "plt.figure(figsize =[7,5])\n",
    "ax = sns.countplot(data = bike_df, x = 'Year', hue = 'user_type')\n",
    "ax.legend(framealpha = 0.3, title ='User Types')"
   ]
  },
  {
   "cell_type": "markdown",
   "metadata": {},
   "source": [
    "> **Findings:** In both years, the number of uses by subscribers is much more than by customer type of users. First, this indicates that most rents are generated by subscriber type of users. However, we are not sure whether subscribers rent a bike more often than usual customers, since we do not know how many unique subscribers and customers are involved in this dataset. Second, we can also notice that both types of users more utilize the rental bike system in 2019, in comparison to the previous year. This fact is consistent with the finding in 3-1 \"The number of rental bike records in each year\"."
   ]
  },
  {
   "cell_type": "markdown",
   "metadata": {},
   "source": [
    "### 3. The Comparison of Accessing Methods based on User Types"
   ]
  },
  {
   "cell_type": "code",
   "execution_count": 34,
   "metadata": {
    "scrolled": true
   },
   "outputs": [
    {
     "data": {
      "text/plain": [
       "<matplotlib.axes._subplots.AxesSubplot at 0x1be873310c8>"
      ]
     },
     "execution_count": 34,
     "metadata": {},
     "output_type": "execute_result"
    },
    {
     "data": {
      "image/png": "[encoded data removed]",
      "text/plain": [
       "<Figure size 432x288 with 1 Axes>"
      ]
     },
     "metadata": {
      "needs_background": "light"
     },
     "output_type": "display_data"
    }
   ],
   "source": [
    "bike_19=bike_df.query('Year == \"2019\"')\n",
    "sns.countplot(data = bike_19, x = 'user_type', hue = 'rental_access_method')"
   ]
  },
  {
   "cell_type": "markdown",
   "metadata": {},
   "source": [
    "> **Findings:** Additionally, I figured out that which methods the subscribers and customers use to access the rental bike. This information is not collected in 2018, so I only compare between the user types and rental access methods within the 2019 dataset. Both types of users mostly access to the system using the mobile application of \"Ford GoBike\". Thus, the company should carefully pay attention to its application maintenance. "
   ]
  },
  {
   "cell_type": "markdown",
   "metadata": {},
   "source": [
    "### 4. Trip Patterns between User Types"
   ]
  },
  {
   "cell_type": "markdown",
   "metadata": {},
   "source": [
    "#### 4-1 Trip duration of each user type"
   ]
  },
  {
   "cell_type": "code",
   "execution_count": 35,
   "metadata": {},
   "outputs": [
    {
     "data": {
      "text/plain": [
       "user_type\n",
       "Customer      1007.263696\n",
       "Subscriber     618.999220\n",
       "Name: duration_sec, dtype: float64"
      ]
     },
     "execution_count": 35,
     "metadata": {},
     "output_type": "execute_result"
    }
   ],
   "source": [
    "bike_df.groupby(['user_type'])['duration_sec'].mean()"
   ]
  },
  {
   "cell_type": "code",
   "execution_count": 36,
   "metadata": {},
   "outputs": [
    {
     "data": {
      "text/plain": [
       "user_type\n",
       "Customer      1020.207317\n",
       "Subscriber     616.113038\n",
       "Name: duration_sec, dtype: float64"
      ]
     },
     "execution_count": 36,
     "metadata": {},
     "output_type": "execute_result"
    }
   ],
   "source": [
    "bike_sample.groupby(['user_type'])['duration_sec'].mean() # The sample represents well its original dataset."
   ]
  },
  {
   "cell_type": "code",
   "execution_count": 37,
   "metadata": {
    "scrolled": false
   },
   "outputs": [
    {
     "data": {
      "text/plain": [
       "Text(0, 0.5, 'Trip Duration (sec)')"
      ]
     },
     "execution_count": 37,
     "metadata": {},
     "output_type": "execute_result"
    },
    {
     "data": {
      "image/png": "[encoded data removed]",
      "text/plain": [
       "<Figure size 576x432 with 2 Axes>"
      ]
     },
     "metadata": {
      "needs_background": "light"
     },
     "output_type": "display_data"
    }
   ],
   "source": [
    "plt.figure(figsize=[8,6])\n",
    "plt.subplot(2,1,1)\n",
    "sns.barplot(data = bike_sample, x = 'user_type', y = 'duration_sec',color = base_color)\n",
    "plt.ylabel('Trip duration on Average')\n",
    "\n",
    "plt.subplot(2,1,2)\n",
    "sns.violinplot(data = bike_sample, x = 'user_type', y = 'duration_sec' , color = base_color);\n",
    "plt.ylabel('Trip Duration (sec)')"
   ]
  },
  {
   "cell_type": "markdown",
   "metadata": {},
   "source": [
    "> **Findings:** The average trip durations of subscribers are smaller than that of customers. Trips by subscribers take about 600 seconds (ca. 10minutes) on average. On the other hand, the average trip duration by customers is around 1000 seconds (ca. 16.67 minutes). Furthermore, as you can see from the violin plot, the peak of distribtion in \"Subsciber\" category is much sharper. This implies that the trip duration patterns of subscribers are more likely to have low variance, comparing to the customer group."
   ]
  },
  {
   "cell_type": "markdown",
   "metadata": {},
   "source": [
    "#### 4-2 Trip distiance of each user type"
   ]
  },
  {
   "cell_type": "code",
   "execution_count": 38,
   "metadata": {},
   "outputs": [
    {
     "data": {
      "text/plain": [
       "user_type\n",
       "Customer      1.709975\n",
       "Subscriber    1.604818\n",
       "Name: distance, dtype: float64"
      ]
     },
     "execution_count": 38,
     "metadata": {},
     "output_type": "execute_result"
    }
   ],
   "source": [
    "bike_sample.groupby(['user_type'])['distance'].mean()"
   ]
  },
  {
   "cell_type": "code",
   "execution_count": 39,
   "metadata": {
    "scrolled": false
   },
   "outputs": [
    {
     "data": {
      "text/plain": [
       "Text(0, 0.5, 'Trip Distance (km)')"
      ]
     },
     "execution_count": 39,
     "metadata": {},
     "output_type": "execute_result"
    },
    {
     "data": {
      "image/png": "[encoded data removed]",
      "text/plain": [
       "<Figure size 576x432 with 2 Axes>"
      ]
     },
     "metadata": {
      "needs_background": "light"
     },
     "output_type": "display_data"
    }
   ],
   "source": [
    "plt.figure(figsize=[8,6])\n",
    "plt.subplot(2,1,1)\n",
    "sns.barplot(data = bike_sample, x = 'user_type', y = 'distance', color = base_color);\n",
    "plt.ylabel('Trip Distance on Average (km)')\n",
    "\n",
    "plt.subplot(2,1,2)\n",
    "sns.violinplot(data = bike_sample, x = 'user_type', y = 'distance' , color = base_color);\n",
    "plt.ylabel('Trip Distance (km)')"
   ]
  },
  {
   "cell_type": "markdown",
   "metadata": {},
   "source": [
    "> **Findings:** The average trip distance of subscribers seems a little bit shorter than that of customers. However, the difference appears very trivial. The average trip distance in subscriber and customer user group is about 1.54km and 1.64km, respectively. Although the violin plot of Subscriber category seems wider, the sharpness of the peak in both plots seems very similar. To check out whether the difference is statistically and also practically significant, we need to conduct statistical test. However, to put it more simple, this implies that the trip distance patterns of both group are very much similar. "
   ]
  },
  {
   "cell_type": "markdown",
   "metadata": {},
   "source": [
    "### 5. The Relationship between Duration and Distance"
   ]
  },
  {
   "cell_type": "code",
   "execution_count": 40,
   "metadata": {},
   "outputs": [
    {
     "data": {
      "text/html": [
       "<div>\n",
       "<style scoped>\n",
       "    .dataframe tbody tr th:only-of-type {\n",
       "        vertical-align: middle;\n",
       "    }\n",
       "\n",
       "    .dataframe tbody tr th {\n",
       "        vertical-align: top;\n",
       "    }\n",
       "\n",
       "    .dataframe thead th {\n",
       "        text-align: right;\n",
       "    }\n",
       "</style>\n",
       "<table border=\"1\" class=\"dataframe\">\n",
       "  <thead>\n",
       "    <tr style=\"text-align: right;\">\n",
       "      <th></th>\n",
       "      <th>duration_sec</th>\n",
       "      <th>distance</th>\n",
       "    </tr>\n",
       "  </thead>\n",
       "  <tbody>\n",
       "    <tr>\n",
       "      <th>count</th>\n",
       "      <td>4.283709e+06</td>\n",
       "      <td>4.283709e+06</td>\n",
       "    </tr>\n",
       "    <tr>\n",
       "      <th>mean</th>\n",
       "      <td>6.846308e+02</td>\n",
       "      <td>1.611877e+00</td>\n",
       "    </tr>\n",
       "    <tr>\n",
       "      <th>std</th>\n",
       "      <td>5.202523e+02</td>\n",
       "      <td>9.702535e-01</td>\n",
       "    </tr>\n",
       "    <tr>\n",
       "      <th>min</th>\n",
       "      <td>6.000000e+01</td>\n",
       "      <td>0.000000e+00</td>\n",
       "    </tr>\n",
       "    <tr>\n",
       "      <th>25%</th>\n",
       "      <td>3.510000e+02</td>\n",
       "      <td>8.980624e-01</td>\n",
       "    </tr>\n",
       "    <tr>\n",
       "      <th>50%</th>\n",
       "      <td>5.550000e+02</td>\n",
       "      <td>1.406149e+00</td>\n",
       "    </tr>\n",
       "    <tr>\n",
       "      <th>75%</th>\n",
       "      <td>8.550000e+02</td>\n",
       "      <td>2.143716e+00</td>\n",
       "    </tr>\n",
       "    <tr>\n",
       "      <th>max</th>\n",
       "      <td>4.683000e+03</td>\n",
       "      <td>4.968373e+00</td>\n",
       "    </tr>\n",
       "  </tbody>\n",
       "</table>\n",
       "</div>"
      ],
      "text/plain": [
       "       duration_sec      distance\n",
       "count  4.283709e+06  4.283709e+06\n",
       "mean   6.846308e+02  1.611877e+00\n",
       "std    5.202523e+02  9.702535e-01\n",
       "min    6.000000e+01  0.000000e+00\n",
       "25%    3.510000e+02  8.980624e-01\n",
       "50%    5.550000e+02  1.406149e+00\n",
       "75%    8.550000e+02  2.143716e+00\n",
       "max    4.683000e+03  4.968373e+00"
      ]
     },
     "execution_count": 40,
     "metadata": {},
     "output_type": "execute_result"
    }
   ],
   "source": [
    "bike_df[['duration_sec','distance']].describe()"
   ]
  },
  {
   "cell_type": "code",
   "execution_count": 41,
   "metadata": {
    "scrolled": false
   },
   "outputs": [
    {
     "data": {
      "text/plain": [
       "Text(0, 0.5, 'Trip Distance (km)')"
      ]
     },
     "execution_count": 41,
     "metadata": {},
     "output_type": "execute_result"
    },
    {
     "data": {
      "image/png": "[encoded data removed]",
      "text/plain": [
       "<Figure size 576x432 with 2 Axes>"
      ]
     },
     "metadata": {
      "needs_background": "light"
     },
     "output_type": "display_data"
    }
   ],
   "source": [
    "bike_mod = bike_sample.query(' distance> 0.1') \n",
    "plt.figure(figsize=[8,6])\n",
    "bins_dur = np.arange(70, bike_mod.duration_sec.max() + 200, 200)\n",
    "bins_dis = np.arange(0.1, 5+ 0.1, 0.1)\n",
    "plt.hist2d(data = bike_mod, x = 'duration_sec', y = 'distance',\n",
    "           bins = [bins_dur, bins_dis], cmap = 'viridis_r', cmin = 0.3)\n",
    "plt.colorbar();\n",
    "plt.xlabel('Trip Duration (sec)')\n",
    "plt.ylabel('Trip Distance (km)')"
   ]
  },
  {
   "cell_type": "code",
   "execution_count": 42,
   "metadata": {
    "scrolled": true
   },
   "outputs": [
    {
     "name": "stdout",
     "output_type": "stream",
     "text": [
      "Correlation between trip distance and duration:  0.467\n"
     ]
    }
   ],
   "source": [
    "corr_= bike_df.duration_sec.corr(bike_df.distance).round(3)\n",
    "print ('Correlation between trip distance and duration: ', corr_)"
   ]
  },
  {
   "cell_type": "markdown",
   "metadata": {},
   "source": [
    "> **Findings:** As the last section of bivariate exploration, I investigate the relationship between trip duration and distance. It turns out that travel duration time is positively correlated with travel distance. The correlation coefficient is 0.463."
   ]
  },
  {
   "cell_type": "markdown",
   "metadata": {},
   "source": [
    "### Insights from Bivariate Exploration\n",
    "\n",
    "> - The distributions of trip durations and trip distance are very similar in each year. Almost of all users use the rental bikes less than 2000 seconds (about 33 mintues) and the most of trip distance are short than 4 kilometers(The figures are simply based on the x-axis labels). The number of trips that both subscribers and customers rent a bike is increased from 2018 to 2019.\n",
    "> - Both types of users mostly access to the system using apps, rather than clippers. \n",
    "> - The average trip duration of customer user type is higher than that of subscriber user type. When we look at the violin plots, we can also find out the data points of subscribers are highly concentrated around the median value. However, There is no notable difference on trip distance between the two user groups. \n",
    "> - Finally, I found out that trip duration is postively correlated with the trip distance in general. \n",
    "\n",
    "### Interesting Relationships between the other Features \n",
    "> - One interesting finding from the bivariate exploration is that the more subscribers rent a bike than customers. On the other hand, subscribers' average duration trip time is less than the customer group. In other words, although the customer user group use the rental bike system less often, but they use the bike longer period of time than subscribers. "
   ]
  },
  {
   "cell_type": "markdown",
   "metadata": {},
   "source": [
    "## Multivariate Exploration\n",
    "\n",
    "> As an extension of the previous analysis, I compared the overall patterns of trip between user groups. In this part, the patterns are mainly compared within different time dimensions. \n"
   ]
  },
  {
   "cell_type": "markdown",
   "metadata": {},
   "source": [
    "### 1. Trip Pattern Comparison between User Groups in each Month"
   ]
  },
  {
   "cell_type": "markdown",
   "metadata": {},
   "source": [
    "#### 1-1 Number of trips in each month"
   ]
  },
  {
   "cell_type": "code",
   "execution_count": 43,
   "metadata": {
    "scrolled": false
   },
   "outputs": [
    {
     "name": "stderr",
     "output_type": "stream",
     "text": [
      "C:\\Users\\wonso\\anaconda3\\lib\\site-packages\\seaborn\\axisgrid.py:728: UserWarning: Using the countplot function without specifying `order` is likely to produce an incorrect plot.\n",
      "  warnings.warn(warning)\n"
     ]
    },
    {
     "data": {
      "image/png": "[encoded data removed]",
      "text/plain": [
       "<Figure size 728x360 with 2 Axes>"
      ]
     },
     "metadata": {
      "needs_background": "light"
     },
     "output_type": "display_data"
    }
   ],
   "source": [
    "g = sns.FacetGrid(data = bike_df, col='user_type', height=5)\n",
    "g = g.map(sns.countplot, \"Month\");\n",
    "g.add_legend()\n",
    "plt.show()"
   ]
  },
  {
   "cell_type": "markdown",
   "metadata": {},
   "source": [
    "> **Findings:** As expected, the number of trips that subscribers take is higher than customers over the months. Since more than 80% of whole users are subscribers, the bar chart of subscribers are highly similar to the previous overall graph (3-2 number of rental bike records in each month) in the univarate section."
   ]
  },
  {
   "cell_type": "markdown",
   "metadata": {},
   "source": [
    "#### 1-2 Average trip duration in each month"
   ]
  },
  {
   "cell_type": "code",
   "execution_count": 44,
   "metadata": {
    "scrolled": false
   },
   "outputs": [
    {
     "name": "stderr",
     "output_type": "stream",
     "text": [
      "C:\\Users\\wonso\\anaconda3\\lib\\site-packages\\seaborn\\axisgrid.py:728: UserWarning: Using the barplot function without specifying `order` is likely to produce an incorrect plot.\n",
      "  warnings.warn(warning)\n"
     ]
    },
    {
     "data": {
      "image/png": "[encoded data removed]",
      "text/plain": [
       "<Figure size 728x360 with 2 Axes>"
      ]
     },
     "metadata": {
      "needs_background": "light"
     },
     "output_type": "display_data"
    }
   ],
   "source": [
    "g = sns.FacetGrid(data = bike_df, col='user_type', height=5)\n",
    "g = g.map(sns.barplot,'Month', 'duration_sec', color = base_color);\n",
    "g.add_legend();\n",
    "plt.show();"
   ]
  },
  {
   "cell_type": "markdown",
   "metadata": {},
   "source": [
    "> **Findings:** Interestingly, the average trip duration of subscriber group is ca. 600 seconds (10 minutes) across all the months. The average trip durations of customers slightly vary, but the duration is always longer than that of subscribers in each month. "
   ]
  },
  {
   "cell_type": "markdown",
   "metadata": {},
   "source": [
    "### 2. Trip Pattern Comparison between User Groups in each Weekday"
   ]
  },
  {
   "cell_type": "markdown",
   "metadata": {},
   "source": [
    "#### 2-1 Number of trips in each weekday"
   ]
  },
  {
   "cell_type": "code",
   "execution_count": 45,
   "metadata": {
    "scrolled": false
   },
   "outputs": [
    {
     "data": {
      "image/png": "[encoded data removed]",
      "text/plain": [
       "<Figure size 728x360 with 2 Axes>"
      ]
     },
     "metadata": {
      "needs_background": "light"
     },
     "output_type": "display_data"
    }
   ],
   "source": [
    "g = sns.FacetGrid(data = bike_df, col='user_type', height=5)\n",
    "weekday_ord=['Monday','Tuesday','Wednesday','Thursday','Friday','Saturday','Sunday']\n",
    "g = g.map(sns.countplot, \"weekday\", order = weekday_ord );\n",
    "g.add_legend()\n",
    "plt.show()"
   ]
  },
  {
   "cell_type": "markdown",
   "metadata": {},
   "source": [
    "> **Findings:** Since the majority of the users are subscribers, the bar chart of subscribers are highly similar to the previous overall graph in the univarate section. Subscribers rent bikes more on weekdays than on weekends. For this reason, I expect that the subscribe group is very likely to the group of commuters. On the other hand, the number of trips taken by customer group is very simliar across the weekdays. It seems that there is no notable differences between on weekdays and on weekends. Therefore, we can imply that the chracteristic of customer group might be highly different from that of subscriber group. "
   ]
  },
  {
   "cell_type": "markdown",
   "metadata": {},
   "source": [
    "#### 2-2 Average trip duration in each weekday"
   ]
  },
  {
   "cell_type": "code",
   "execution_count": 46,
   "metadata": {
    "scrolled": false
   },
   "outputs": [
    {
     "data": {
      "image/png": "[encoded data removed]",
      "text/plain": [
       "<Figure size 728x360 with 2 Axes>"
      ]
     },
     "metadata": {
      "needs_background": "light"
     },
     "output_type": "display_data"
    }
   ],
   "source": [
    "g = sns.FacetGrid(data = bike_df, col='user_type', height=5)\n",
    "weekday_ord=['Monday','Tuesday','Wednesday','Thursday','Friday','Saturday','Sunday']\n",
    "g = g.map(sns.barplot,'weekday', 'duration_sec', color = base_color, order =weekday_ord);\n",
    "plt.xticks(rotation = 30)\n",
    "g.add_legend()\n",
    "plt.show()"
   ]
  },
  {
   "cell_type": "markdown",
   "metadata": {},
   "source": [
    "> **Findings:** These two barcharts in this section show the average trip duration between the user groups in each weekday. The average trip time of subscribers is ca. 600 seconds (10 minutes). Also the average trip duration of customers is longer than that of subscribers over the weekdays. These findings are consistent with those of monthly based subscribers' trip duration graph. However, in both groups, the average trip duration on weekends is longer than the trip time on weekdays, although the the difference in the customer group is larger. "
   ]
  },
  {
   "cell_type": "markdown",
   "metadata": {},
   "source": [
    "### 3. Trip Pattern Comparison between User Groups in each Hour"
   ]
  },
  {
   "cell_type": "markdown",
   "metadata": {},
   "source": [
    "#### 3-1 Number of trips in each hour"
   ]
  },
  {
   "cell_type": "code",
   "execution_count": 47,
   "metadata": {
    "scrolled": false
   },
   "outputs": [
    {
     "name": "stderr",
     "output_type": "stream",
     "text": [
      "C:\\Users\\wonso\\anaconda3\\lib\\site-packages\\seaborn\\axisgrid.py:728: UserWarning: Using the countplot function without specifying `order` is likely to produce an incorrect plot.\n",
      "  warnings.warn(warning)\n"
     ]
    },
    {
     "data": {
      "image/png": "[encoded data removed]",
      "text/plain": [
       "<Figure size 728x360 with 2 Axes>"
      ]
     },
     "metadata": {
      "needs_background": "light"
     },
     "output_type": "display_data"
    }
   ],
   "source": [
    "g = sns.FacetGrid(data = bike_df, col='user_type', height=5)\n",
    "g = g.map(sns.countplot, \"hour\");\n",
    "g.add_legend()\n",
    "plt.show()"
   ]
  },
  {
   "cell_type": "markdown",
   "metadata": {},
   "source": [
    "> **Findings:** Since most of the users are subscribers, the hour-based bar chart of subscribers are highly similar to the previous overall graph in the univarate section. This fact supports my opinion that the group of subscribers are very likely to be commuters. Commuters usually works on weekdays and their travel path are very likely to be equal over the weekdays. Also, during the rush hours, commuters are highly crowded on the street. The distribution of the group in customer group seems very similar to subscriber groups. Both distributions are bimodel. However the peaks are not remarkable. "
   ]
  },
  {
   "cell_type": "markdown",
   "metadata": {},
   "source": [
    "#### 3-2 The average trip duration in each hour"
   ]
  },
  {
   "cell_type": "code",
   "execution_count": 48,
   "metadata": {},
   "outputs": [
    {
     "name": "stderr",
     "output_type": "stream",
     "text": [
      "C:\\Users\\wonso\\anaconda3\\lib\\site-packages\\seaborn\\axisgrid.py:728: UserWarning: Using the barplot function without specifying `order` is likely to produce an incorrect plot.\n",
      "  warnings.warn(warning)\n"
     ]
    },
    {
     "data": {
      "text/plain": [
       "<Figure size 720x432 with 0 Axes>"
      ]
     },
     "metadata": {},
     "output_type": "display_data"
    },
    {
     "data": {
      "image/png": "[encoded data removed]",
      "text/plain": [
       "<Figure size 728x360 with 2 Axes>"
      ]
     },
     "metadata": {
      "needs_background": "light"
     },
     "output_type": "display_data"
    }
   ],
   "source": [
    "plt.figure(figsize=[10,6])\n",
    "g = sns.FacetGrid(data = bike_df, col='user_type', height=5)\n",
    "g = g.map(sns.barplot,'hour', 'duration_sec', color = base_color);\n",
    "g.add_legend()\n",
    "plt.show()"
   ]
  },
  {
   "cell_type": "markdown",
   "metadata": {},
   "source": [
    "> **Findings:**  These two barcharts in this section show the average trip duration between the user groups in each hour. The average trip time of subscribers is around 600 seconds (10 minutes), after the morning rush hour. The average trip duration of customers is longer than that of subscribers in each hour. Although the variation is slightly larger than monthly or weekly bar plots, these findings are consistent with the earlier findings. "
   ]
  },
  {
   "cell_type": "markdown",
   "metadata": {},
   "source": [
    "### Findings from Multivariate Exploration\n",
    "\n",
    ">  In the previous section (Bivariate Exploration), I compared the overall patterns of bike trip between the subscriber and customer groups. As an extension of the previous analysis in this part, the patterns are mainly compared within different time dimensions. \n",
    "1. **Monthly based Analysis:**  The number of trips that subscribe group monthly takes is much more than that of customer group. As expected, the average trip duration of subscribers are very uniformly distributed and also much less than that of customers. Since subscribers consist of the majoritly of users, the average trip duration of subscribers are very much similar across the months.  \n",
    "2. **Weekly based Analysis:** The users in subscribe group mostly rent a bike during weekdays. The number of trips in this group on weekends is far less than on weekdays. For these reasons, I guess the most subscriber group has the characteristic of commuters, who regularly need a rental bike as the means of transportation for a certain distance to move from one place to another. On the other hand, there is almost no variation on the number of trips in customer groups. As before, the average trip duration of subscribers is less than that of customers. The customers are more likely ride a bike for a longer time on weekends. \n",
    "3. **Hourly based Analysis:** The subscribers show high demands during the rush hours of day. As we discussed, around 8:00 in the morning and around 17:00 in the afternoon are the peak time zones that subscribers take the rental bikes. On the other hand, customers use the rental bikes in the afternoon rather than in the morning. The trip durations of subscriber group are very similar over the hours. \n"
   ]
  }
 ],
 "metadata": {
  "kernelspec": {
   "display_name": "Python 3",
   "language": "python",
   "name": "python3"
  },
  "language_info": {
   "codemirror_mode": {
    "name": "ipython",
    "version": 3
   },
   "file_extension": ".py",
   "mimetype": "text/x-python",
   "name": "python",
   "nbconvert_exporter": "python",
   "pygments_lexer": "ipython3",
   "version": "3.7.6"
  }
 },
 "nbformat": 4,
 "nbformat_minor": 2
}
